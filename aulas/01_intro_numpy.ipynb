{
 "cells": [
  {
   "cell_type": "markdown",
   "source": [
    "# Intro to Numpy\n",
    "Este documento é uma lista de funcionalidades\n",
    "específicas de numpy\n",
    "\n",
    "Este material foi retirado do livro\n",
    "```\n",
    "Python for Data Analysis\n",
    "by Wes McKinney\n",
    "2018\n",
    "```"
   ],
   "metadata": {
    "collapsed": false
   }
  },
  {
   "cell_type": "code",
   "execution_count": 1,
   "metadata": {
    "collapsed": true,
    "ExecuteTime": {
     "start_time": "2024-10-06T18:50:35.128590Z",
     "end_time": "2024-10-06T18:50:37.325065Z"
    }
   },
   "outputs": [],
   "source": [
    "import numpy as np\n"
   ]
  },
  {
   "cell_type": "markdown",
   "source": [
    "numpy eh muito mais rapido que python"
   ],
   "metadata": {
    "collapsed": false
   }
  },
  {
   "cell_type": "code",
   "execution_count": 2,
   "outputs": [
    {
     "data": {
      "text/plain": "array([     0,      1,      2, ..., 999997, 999998, 999999])"
     },
     "execution_count": 2,
     "metadata": {},
     "output_type": "execute_result"
    }
   ],
   "source": [
    "my_arr = np.arange(1_000_000)\n",
    "my_arr"
   ],
   "metadata": {
    "collapsed": false,
    "ExecuteTime": {
     "start_time": "2024-10-06T18:50:35.259226Z",
     "end_time": "2024-10-06T18:50:37.662042Z"
    }
   }
  },
  {
   "cell_type": "code",
   "execution_count": 3,
   "outputs": [],
   "source": [
    "my_lis = list(range(1_000_000))"
   ],
   "metadata": {
    "collapsed": false,
    "ExecuteTime": {
     "start_time": "2024-10-06T18:50:35.259747Z",
     "end_time": "2024-10-06T18:50:37.848997Z"
    }
   }
  },
  {
   "cell_type": "code",
   "execution_count": 4,
   "outputs": [
    {
     "name": "stdout",
     "output_type": "stream",
     "text": [
      "CPU times: user 164 ms, sys: 8.53 ms, total: 172 ms\n",
      "Wall time: 176 ms\n"
     ]
    }
   ],
   "source": [
    "%time for _ in range(100): my_arr2 = my_arr*2\n"
   ],
   "metadata": {
    "collapsed": false,
    "ExecuteTime": {
     "start_time": "2024-10-06T18:50:35.302665Z",
     "end_time": "2024-10-06T18:50:38.122535Z"
    }
   }
  },
  {
   "cell_type": "code",
   "execution_count": 5,
   "outputs": [
    {
     "name": "stdout",
     "output_type": "stream",
     "text": [
      "CPU times: user 6.11 s, sys: 451 ms, total: 6.56 s\n",
      "Wall time: 7.14 s\n"
     ]
    }
   ],
   "source": [
    "%time for _ in range(100): my_lis2 = [2*x for x in my_lis]\n"
   ],
   "metadata": {
    "collapsed": false,
    "ExecuteTime": {
     "start_time": "2024-10-06T18:50:35.520586Z",
     "end_time": "2024-10-06T18:50:42.682335Z"
    }
   }
  },
  {
   "cell_type": "code",
   "execution_count": 6,
   "outputs": [
    {
     "data": {
      "text/plain": "array([[-1.2524331 , -0.02831504, -0.72395129],\n       [ 0.64745834, -0.25325457, -1.40213549]])"
     },
     "execution_count": 6,
     "metadata": {},
     "output_type": "execute_result"
    }
   ],
   "source": [
    "# gerando dados aleatorios 2x3\n",
    "data = np.random.randn(2, 3)\n",
    "data"
   ],
   "metadata": {
    "collapsed": false,
    "ExecuteTime": {
     "start_time": "2024-10-06T18:50:42.651391Z",
     "end_time": "2024-10-06T18:50:42.819159Z"
    }
   }
  },
  {
   "cell_type": "code",
   "execution_count": 7,
   "outputs": [
    {
     "data": {
      "text/plain": "array([[-12.52433097,  -0.28315044,  -7.23951287],\n       [  6.47458336,  -2.5325457 , -14.02135485]])"
     },
     "execution_count": 7,
     "metadata": {},
     "output_type": "execute_result"
    }
   ],
   "source": [
    "data*10\n"
   ],
   "metadata": {
    "collapsed": false,
    "ExecuteTime": {
     "start_time": "2024-10-06T18:50:42.678668Z",
     "end_time": "2024-10-06T18:50:42.820545Z"
    }
   }
  },
  {
   "cell_type": "code",
   "execution_count": 8,
   "outputs": [
    {
     "data": {
      "text/plain": "array([[-2.50486619, -0.05663009, -1.44790257],\n       [ 1.29491667, -0.50650914, -2.80427097]])"
     },
     "execution_count": 8,
     "metadata": {},
     "output_type": "execute_result"
    }
   ],
   "source": [
    "data + data"
   ],
   "metadata": {
    "collapsed": false,
    "ExecuteTime": {
     "start_time": "2024-10-06T18:50:42.682854Z",
     "end_time": "2024-10-06T18:50:42.924347Z"
    }
   }
  },
  {
   "cell_type": "code",
   "execution_count": 9,
   "outputs": [
    {
     "data": {
      "text/plain": "(2, 3)"
     },
     "execution_count": 9,
     "metadata": {},
     "output_type": "execute_result"
    }
   ],
   "source": [
    "data.shape"
   ],
   "metadata": {
    "collapsed": false,
    "ExecuteTime": {
     "start_time": "2024-10-06T18:50:42.696255Z",
     "end_time": "2024-10-06T18:50:43.006214Z"
    }
   }
  },
  {
   "cell_type": "code",
   "execution_count": 10,
   "outputs": [
    {
     "data": {
      "text/plain": "dtype('float64')"
     },
     "execution_count": 10,
     "metadata": {},
     "output_type": "execute_result"
    }
   ],
   "source": [
    "data.dtype"
   ],
   "metadata": {
    "collapsed": false,
    "ExecuteTime": {
     "start_time": "2024-10-06T18:50:42.708999Z",
     "end_time": "2024-10-06T18:50:43.073036Z"
    }
   }
  },
  {
   "cell_type": "markdown",
   "source": [
    "criando a partir de listas\n",
    "\n"
   ],
   "metadata": {
    "collapsed": false
   }
  },
  {
   "cell_type": "code",
   "execution_count": 11,
   "outputs": [],
   "source": [
    "data1 = [6, 7.5, 8, 0, 1]\n"
   ],
   "metadata": {
    "collapsed": false,
    "ExecuteTime": {
     "start_time": "2024-10-06T18:50:42.750758Z",
     "end_time": "2024-10-06T18:50:43.134041Z"
    }
   }
  },
  {
   "cell_type": "code",
   "execution_count": 12,
   "outputs": [
    {
     "data": {
      "text/plain": "array([6. , 7.5, 8. , 0. , 1. ])"
     },
     "execution_count": 12,
     "metadata": {},
     "output_type": "execute_result"
    }
   ],
   "source": [
    "arr1 = np.array(data1)\n",
    "arr1"
   ],
   "metadata": {
    "collapsed": false,
    "ExecuteTime": {
     "start_time": "2024-10-06T18:50:42.751032Z",
     "end_time": "2024-10-06T18:50:43.392999Z"
    }
   }
  },
  {
   "cell_type": "code",
   "execution_count": 13,
   "outputs": [
    {
     "data": {
      "text/plain": "array([[1, 2, 3, 4],\n       [5, 6, 7, 8]])"
     },
     "execution_count": 13,
     "metadata": {},
     "output_type": "execute_result"
    }
   ],
   "source": [
    "data2 = [[1,2,3,4], [5,6,7,8]]\n",
    "arr2 = np.array(data2)\n",
    "arr2"
   ],
   "metadata": {
    "collapsed": false,
    "ExecuteTime": {
     "start_time": "2024-10-06T18:50:42.798800Z",
     "end_time": "2024-10-06T18:50:43.522350Z"
    }
   }
  },
  {
   "cell_type": "code",
   "execution_count": 14,
   "outputs": [
    {
     "data": {
      "text/plain": "2"
     },
     "execution_count": 14,
     "metadata": {},
     "output_type": "execute_result"
    }
   ],
   "source": [
    "# numero de dimencoes\n",
    "arr2.ndim"
   ],
   "metadata": {
    "collapsed": false,
    "ExecuteTime": {
     "start_time": "2024-10-06T18:50:42.799109Z",
     "end_time": "2024-10-06T18:50:43.578864Z"
    }
   }
  },
  {
   "cell_type": "code",
   "execution_count": 15,
   "outputs": [
    {
     "data": {
      "text/plain": "(2, 4)"
     },
     "execution_count": 15,
     "metadata": {},
     "output_type": "execute_result"
    }
   ],
   "source": [
    "# tamanho de cada dimensao\n",
    "arr2.shape"
   ],
   "metadata": {
    "collapsed": false,
    "ExecuteTime": {
     "start_time": "2024-10-06T18:50:42.799288Z",
     "end_time": "2024-10-06T18:50:43.610665Z"
    }
   }
  },
  {
   "cell_type": "code",
   "execution_count": 16,
   "outputs": [
    {
     "data": {
      "text/plain": "dtype('int64')"
     },
     "execution_count": 16,
     "metadata": {},
     "output_type": "execute_result"
    }
   ],
   "source": [
    "# tipo de dados\n",
    "arr2.dtype"
   ],
   "metadata": {
    "collapsed": false,
    "ExecuteTime": {
     "start_time": "2024-10-06T18:50:42.799467Z",
     "end_time": "2024-10-06T18:50:43.676149Z"
    }
   }
  },
  {
   "cell_type": "code",
   "execution_count": 17,
   "outputs": [
    {
     "data": {
      "text/plain": "array([0., 0., 0., 0., 0., 0.])"
     },
     "execution_count": 17,
     "metadata": {},
     "output_type": "execute_result"
    }
   ],
   "source": [
    "np.zeros(6)"
   ],
   "metadata": {
    "collapsed": false,
    "ExecuteTime": {
     "start_time": "2024-10-06T18:50:42.842746Z",
     "end_time": "2024-10-06T18:50:43.746492Z"
    }
   }
  },
  {
   "cell_type": "code",
   "execution_count": 18,
   "outputs": [
    {
     "data": {
      "text/plain": "array([[0., 0., 0., 0., 0., 0.],\n       [0., 0., 0., 0., 0., 0.],\n       [0., 0., 0., 0., 0., 0.]])"
     },
     "execution_count": 18,
     "metadata": {},
     "output_type": "execute_result"
    }
   ],
   "source": [
    "np.zeros((3,6))"
   ],
   "metadata": {
    "collapsed": false,
    "ExecuteTime": {
     "start_time": "2024-10-06T18:50:42.843006Z",
     "end_time": "2024-10-06T18:50:43.806144Z"
    }
   }
  },
  {
   "cell_type": "code",
   "execution_count": 19,
   "outputs": [
    {
     "data": {
      "text/plain": "array([1., 1., 1., 1., 1., 1., 1., 1., 1., 1.])"
     },
     "execution_count": 19,
     "metadata": {},
     "output_type": "execute_result"
    }
   ],
   "source": [
    "np.ones(10)"
   ],
   "metadata": {
    "collapsed": false,
    "ExecuteTime": {
     "start_time": "2024-10-06T18:50:42.843227Z",
     "end_time": "2024-10-06T18:50:43.864264Z"
    }
   }
  },
  {
   "cell_type": "code",
   "execution_count": 20,
   "outputs": [
    {
     "data": {
      "text/plain": "array([ 0,  1,  2,  3,  4,  5,  6,  7,  8,  9, 10, 11, 12, 13, 14])"
     },
     "execution_count": 20,
     "metadata": {},
     "output_type": "execute_result"
    }
   ],
   "source": [
    "np.arange(15)"
   ],
   "metadata": {
    "collapsed": false,
    "ExecuteTime": {
     "start_time": "2024-10-06T18:50:42.843444Z",
     "end_time": "2024-10-06T18:50:43.935166Z"
    }
   }
  },
  {
   "cell_type": "code",
   "execution_count": 21,
   "outputs": [
    {
     "data": {
      "text/plain": "array([ 5,  6,  7,  8,  9, 10, 11, 12, 13, 14])"
     },
     "execution_count": 21,
     "metadata": {},
     "output_type": "execute_result"
    }
   ],
   "source": [
    "np.arange(5, 15)"
   ],
   "metadata": {
    "collapsed": false,
    "ExecuteTime": {
     "start_time": "2024-10-06T18:50:42.917082Z",
     "end_time": "2024-10-06T18:50:44.015754Z"
    }
   }
  },
  {
   "cell_type": "code",
   "execution_count": 22,
   "outputs": [
    {
     "data": {
      "text/plain": "array([ 5,  8, 11, 14])"
     },
     "execution_count": 22,
     "metadata": {},
     "output_type": "execute_result"
    }
   ],
   "source": [
    "np.arange(5, 15, 3)"
   ],
   "metadata": {
    "collapsed": false,
    "ExecuteTime": {
     "start_time": "2024-10-06T18:50:42.917295Z",
     "end_time": "2024-10-06T18:50:44.096187Z"
    }
   }
  },
  {
   "cell_type": "code",
   "execution_count": 23,
   "outputs": [
    {
     "data": {
      "text/plain": "array([ 0. ,  2.5,  5. ,  7.5, 10. ])"
     },
     "execution_count": 23,
     "metadata": {},
     "output_type": "execute_result"
    }
   ],
   "source": [
    "# np.linspace(begin, stop, quantidade)\n",
    "# quantidade de numeros do begin, a stop\n",
    "# uniformemente espacados\n",
    "np.linspace(0, 10, 5)"
   ],
   "metadata": {
    "collapsed": false,
    "ExecuteTime": {
     "start_time": "2024-10-06T18:50:42.917479Z",
     "end_time": "2024-10-06T18:50:44.165038Z"
    }
   }
  },
  {
   "cell_type": "markdown",
   "source": [
    "# Data Types"
   ],
   "metadata": {
    "collapsed": false
   }
  },
  {
   "cell_type": "code",
   "execution_count": 24,
   "outputs": [
    {
     "data": {
      "text/plain": "dtype('int64')"
     },
     "execution_count": 24,
     "metadata": {},
     "output_type": "execute_result"
    }
   ],
   "source": [
    "arr1 = np.array([1,2,3])\n",
    "arr1.dtype"
   ],
   "metadata": {
    "collapsed": false,
    "ExecuteTime": {
     "start_time": "2024-10-06T18:50:42.917883Z",
     "end_time": "2024-10-06T18:50:44.243207Z"
    }
   }
  },
  {
   "cell_type": "code",
   "execution_count": 25,
   "outputs": [
    {
     "data": {
      "text/plain": "dtype('float64')"
     },
     "execution_count": 25,
     "metadata": {},
     "output_type": "execute_result"
    }
   ],
   "source": [
    "arr2 = np.array([1,2,3], dtype=np.float64)\n",
    "arr2.dtype"
   ],
   "metadata": {
    "collapsed": false,
    "ExecuteTime": {
     "start_time": "2024-10-06T18:50:42.918127Z",
     "end_time": "2024-10-06T18:50:44.314637Z"
    }
   }
  },
  {
   "cell_type": "code",
   "execution_count": 26,
   "outputs": [
    {
     "data": {
      "text/plain": "array([1, 2, 3])"
     },
     "execution_count": 26,
     "metadata": {},
     "output_type": "execute_result"
    }
   ],
   "source": [
    "arr1"
   ],
   "metadata": {
    "collapsed": false,
    "ExecuteTime": {
     "start_time": "2024-10-06T18:50:42.933823Z",
     "end_time": "2024-10-06T18:50:44.380407Z"
    }
   }
  },
  {
   "cell_type": "code",
   "execution_count": 27,
   "outputs": [
    {
     "data": {
      "text/plain": "array([1., 2., 3.])"
     },
     "execution_count": 27,
     "metadata": {},
     "output_type": "execute_result"
    }
   ],
   "source": [
    "arr2\n"
   ],
   "metadata": {
    "collapsed": false,
    "ExecuteTime": {
     "start_time": "2024-10-06T18:50:42.944387Z",
     "end_time": "2024-10-06T18:50:44.445434Z"
    }
   }
  },
  {
   "cell_type": "code",
   "execution_count": 28,
   "outputs": [
    {
     "data": {
      "text/plain": "array([1., 2., 3.])"
     },
     "execution_count": 28,
     "metadata": {},
     "output_type": "execute_result"
    }
   ],
   "source": [
    "arr1.astype(np.float64)\n"
   ],
   "metadata": {
    "collapsed": false,
    "ExecuteTime": {
     "start_time": "2024-10-06T18:50:42.966045Z",
     "end_time": "2024-10-06T18:50:44.519829Z"
    }
   }
  },
  {
   "cell_type": "code",
   "execution_count": 29,
   "outputs": [
    {
     "data": {
      "text/plain": "array(['-1.25', '3', '4.0'], dtype='<U5')"
     },
     "execution_count": 29,
     "metadata": {},
     "output_type": "execute_result"
    }
   ],
   "source": [
    "arr_str = np.array(['-1.25', '3', '4.0'])\n",
    "arr_str"
   ],
   "metadata": {
    "collapsed": false,
    "ExecuteTime": {
     "start_time": "2024-10-06T18:50:42.978615Z",
     "end_time": "2024-10-06T18:50:44.577890Z"
    }
   }
  },
  {
   "cell_type": "code",
   "execution_count": 30,
   "outputs": [
    {
     "data": {
      "text/plain": "array([-1.25,  3.  ,  4.  ])"
     },
     "execution_count": 30,
     "metadata": {},
     "output_type": "execute_result"
    }
   ],
   "source": [
    "arr_str.astype(np.float64)\n"
   ],
   "metadata": {
    "collapsed": false,
    "ExecuteTime": {
     "start_time": "2024-10-06T18:50:42.995101Z",
     "end_time": "2024-10-06T18:50:44.650053Z"
    }
   }
  },
  {
   "cell_type": "markdown",
   "source": [
    "# Arithmetic"
   ],
   "metadata": {
    "collapsed": false
   }
  },
  {
   "cell_type": "code",
   "execution_count": 31,
   "outputs": [
    {
     "data": {
      "text/plain": "array([[1., 2., 3.],\n       [4., 5., 6.]])"
     },
     "execution_count": 31,
     "metadata": {},
     "output_type": "execute_result"
    }
   ],
   "source": [
    "arr = np.array([[1., 2., 3.], [4., 5., 6.]])\n",
    "arr"
   ],
   "metadata": {
    "collapsed": false,
    "ExecuteTime": {
     "start_time": "2024-10-06T18:50:43.038701Z",
     "end_time": "2024-10-06T18:50:44.682295Z"
    }
   }
  },
  {
   "cell_type": "code",
   "execution_count": 32,
   "outputs": [
    {
     "data": {
      "text/plain": "array([[ 1.,  4.,  9.],\n       [16., 25., 36.]])"
     },
     "execution_count": 32,
     "metadata": {},
     "output_type": "execute_result"
    }
   ],
   "source": [
    "arr*arr\n"
   ],
   "metadata": {
    "collapsed": false,
    "ExecuteTime": {
     "start_time": "2024-10-06T18:50:43.038888Z",
     "end_time": "2024-10-06T18:50:44.737734Z"
    }
   }
  },
  {
   "cell_type": "code",
   "execution_count": 33,
   "outputs": [
    {
     "data": {
      "text/plain": "array([[0., 0., 0.],\n       [0., 0., 0.]])"
     },
     "execution_count": 33,
     "metadata": {},
     "output_type": "execute_result"
    }
   ],
   "source": [
    "arr-arr\n"
   ],
   "metadata": {
    "collapsed": false,
    "ExecuteTime": {
     "start_time": "2024-10-06T18:50:43.108321Z",
     "end_time": "2024-10-06T18:50:44.814659Z"
    }
   }
  },
  {
   "cell_type": "code",
   "execution_count": 34,
   "outputs": [
    {
     "data": {
      "text/plain": "array([[1.        , 0.5       , 0.33333333],\n       [0.25      , 0.2       , 0.16666667]])"
     },
     "execution_count": 34,
     "metadata": {},
     "output_type": "execute_result"
    }
   ],
   "source": [
    "1/arr"
   ],
   "metadata": {
    "collapsed": false,
    "ExecuteTime": {
     "start_time": "2024-10-06T18:50:43.108540Z",
     "end_time": "2024-10-06T18:50:44.831452Z"
    }
   }
  },
  {
   "cell_type": "code",
   "execution_count": 35,
   "outputs": [
    {
     "data": {
      "text/plain": "array([[ 1.,  4.,  9.],\n       [16., 25., 36.]])"
     },
     "execution_count": 35,
     "metadata": {},
     "output_type": "execute_result"
    }
   ],
   "source": [
    "arr**2"
   ],
   "metadata": {
    "collapsed": false,
    "ExecuteTime": {
     "start_time": "2024-10-06T18:50:43.108689Z",
     "end_time": "2024-10-06T18:50:44.900787Z"
    }
   }
  },
  {
   "cell_type": "code",
   "execution_count": 36,
   "outputs": [
    {
     "data": {
      "text/plain": "array([[1.        , 1.41421356, 1.73205081],\n       [2.        , 2.23606798, 2.44948974]])"
     },
     "execution_count": 36,
     "metadata": {},
     "output_type": "execute_result"
    }
   ],
   "source": [
    "arr**0.5"
   ],
   "metadata": {
    "collapsed": false,
    "ExecuteTime": {
     "start_time": "2024-10-06T18:50:43.108850Z",
     "end_time": "2024-10-06T18:50:44.991450Z"
    }
   }
  },
  {
   "cell_type": "code",
   "execution_count": 37,
   "outputs": [],
   "source": [
    "arr2 = np.array([[0., 4., 1., ], [7., 2., 12.]])"
   ],
   "metadata": {
    "collapsed": false,
    "ExecuteTime": {
     "start_time": "2024-10-06T18:50:43.126675Z",
     "end_time": "2024-10-06T18:50:45.013453Z"
    }
   }
  },
  {
   "cell_type": "code",
   "execution_count": 38,
   "outputs": [
    {
     "data": {
      "text/plain": "array([[False,  True, False],\n       [ True, False,  True]])"
     },
     "execution_count": 38,
     "metadata": {},
     "output_type": "execute_result"
    }
   ],
   "source": [
    "arr2 > arr\n"
   ],
   "metadata": {
    "collapsed": false,
    "ExecuteTime": {
     "start_time": "2024-10-06T18:50:43.126895Z",
     "end_time": "2024-10-06T18:50:45.109223Z"
    }
   }
  },
  {
   "cell_type": "code",
   "execution_count": 39,
   "id": "a8bcee38",
   "metadata": {
    "ExecuteTime": {
     "start_time": "2024-10-06T18:50:43.127204Z",
     "end_time": "2024-10-06T18:50:45.146486Z"
    }
   },
   "outputs": [],
   "source": [
    "arr3d = np.array([[[1,2,3], [4,5,6]], [[7,8,9], [10,11,12]]])"
   ]
  },
  {
   "cell_type": "code",
   "execution_count": 40,
   "id": "db849350",
   "metadata": {
    "ExecuteTime": {
     "start_time": "2024-10-06T18:50:43.129716Z",
     "end_time": "2024-10-06T18:50:45.151703Z"
    }
   },
   "outputs": [
    {
     "data": {
      "text/plain": "array([[[ 1,  2,  3],\n        [ 4,  5,  6]],\n\n       [[ 7,  8,  9],\n        [10, 11, 12]]])"
     },
     "execution_count": 40,
     "metadata": {},
     "output_type": "execute_result"
    }
   ],
   "source": [
    "arr3d"
   ]
  },
  {
   "cell_type": "code",
   "execution_count": 41,
   "id": "cba1c78c",
   "metadata": {
    "ExecuteTime": {
     "start_time": "2024-10-06T18:50:43.162208Z",
     "end_time": "2024-10-06T18:50:45.152402Z"
    }
   },
   "outputs": [
    {
     "data": {
      "text/plain": "array([[1, 2, 3],\n       [4, 5, 6]])"
     },
     "execution_count": 41,
     "metadata": {},
     "output_type": "execute_result"
    }
   ],
   "source": [
    "arr3d[0]"
   ]
  },
  {
   "cell_type": "code",
   "execution_count": 42,
   "id": "fd9a3a51",
   "metadata": {
    "ExecuteTime": {
     "start_time": "2024-10-06T18:50:43.175475Z",
     "end_time": "2024-10-06T18:50:45.152981Z"
    }
   },
   "outputs": [
    {
     "data": {
      "text/plain": "array([1, 2, 3])"
     },
     "execution_count": 42,
     "metadata": {},
     "output_type": "execute_result"
    }
   ],
   "source": [
    "arr3d[0][0]"
   ]
  },
  {
   "cell_type": "code",
   "execution_count": 43,
   "id": "670cc95e",
   "metadata": {
    "ExecuteTime": {
     "start_time": "2024-10-06T18:50:43.183064Z",
     "end_time": "2024-10-06T18:50:45.259899Z"
    }
   },
   "outputs": [
    {
     "data": {
      "text/plain": "np.int64(1)"
     },
     "execution_count": 43,
     "metadata": {},
     "output_type": "execute_result"
    }
   ],
   "source": [
    "arr3d[0][0][0]"
   ]
  },
  {
   "cell_type": "code",
   "execution_count": 44,
   "id": "355d2382",
   "metadata": {
    "ExecuteTime": {
     "start_time": "2024-10-06T18:50:43.202060Z",
     "end_time": "2024-10-06T18:50:45.327574Z"
    }
   },
   "outputs": [
    {
     "data": {
      "text/plain": "np.int64(1)"
     },
     "execution_count": 44,
     "metadata": {},
     "output_type": "execute_result"
    }
   ],
   "source": [
    "arr3d[0,0,0]"
   ]
  },
  {
   "cell_type": "code",
   "execution_count": 45,
   "id": "3e329c1b",
   "metadata": {
    "ExecuteTime": {
     "start_time": "2024-10-06T18:50:43.223288Z",
     "end_time": "2024-10-06T18:50:45.395528Z"
    }
   },
   "outputs": [
    {
     "data": {
      "text/plain": "array([1, 2, 3])"
     },
     "execution_count": 45,
     "metadata": {},
     "output_type": "execute_result"
    }
   ],
   "source": [
    "arr3d[0,0]"
   ]
  },
  {
   "cell_type": "code",
   "execution_count": 46,
   "id": "2964fc1e",
   "metadata": {
    "ExecuteTime": {
     "start_time": "2024-10-06T18:50:43.240837Z",
     "end_time": "2024-10-06T18:50:45.465519Z"
    }
   },
   "outputs": [
    {
     "data": {
      "text/plain": "array([[ 3,  6],\n       [ 9, 12]])"
     },
     "execution_count": 46,
     "metadata": {},
     "output_type": "execute_result"
    }
   ],
   "source": [
    "arr3d[:, :, 2]"
   ]
  },
  {
   "cell_type": "code",
   "execution_count": 47,
   "id": "b449382f",
   "metadata": {
    "ExecuteTime": {
     "start_time": "2024-10-06T18:50:43.282663Z",
     "end_time": "2024-10-06T18:50:45.529025Z"
    }
   },
   "outputs": [
    {
     "data": {
      "text/plain": "array([[ 8,  9],\n       [11, 12]])"
     },
     "execution_count": 47,
     "metadata": {},
     "output_type": "execute_result"
    }
   ],
   "source": [
    "arr3d[1, :, 1:]"
   ]
  },
  {
   "cell_type": "markdown",
   "source": [
    "# Boolean Indexing"
   ],
   "metadata": {
    "collapsed": false
   }
  },
  {
   "cell_type": "code",
   "execution_count": 48,
   "outputs": [],
   "source": [
    "names = np.array(['Bob', 'Joe', 'Will', 'Bob', 'Will', 'Joe', 'Joe'])\n",
    "data = np.random.randn(7, 4)"
   ],
   "metadata": {
    "collapsed": false,
    "ExecuteTime": {
     "start_time": "2024-10-06T18:50:43.282854Z",
     "end_time": "2024-10-06T18:50:45.561615Z"
    }
   }
  },
  {
   "cell_type": "code",
   "execution_count": 49,
   "outputs": [
    {
     "data": {
      "text/plain": "array(['Bob', 'Joe', 'Will', 'Bob', 'Will', 'Joe', 'Joe'], dtype='<U4')"
     },
     "execution_count": 49,
     "metadata": {},
     "output_type": "execute_result"
    }
   ],
   "source": [
    "names"
   ],
   "metadata": {
    "collapsed": false,
    "ExecuteTime": {
     "start_time": "2024-10-06T18:50:43.282984Z",
     "end_time": "2024-10-06T18:50:45.623534Z"
    }
   }
  },
  {
   "cell_type": "code",
   "execution_count": 50,
   "outputs": [
    {
     "data": {
      "text/plain": "array([[-0.14372236,  0.58373353, -0.62859076, -1.68776363],\n       [ 0.58591075,  0.16328812, -0.61610859,  2.11509781],\n       [ 0.01095234, -1.25347626,  1.30901393, -0.75914179],\n       [-0.12355202,  0.27445299,  1.40076038, -0.89792643],\n       [-0.67614373, -0.0996626 , -0.32898694,  1.65337729],\n       [-0.45141808,  1.16721188, -1.01229345, -0.61238942],\n       [ 0.60165016,  0.06619344, -0.30338719, -0.5073148 ]])"
     },
     "execution_count": 50,
     "metadata": {},
     "output_type": "execute_result"
    }
   ],
   "source": [
    "data"
   ],
   "metadata": {
    "collapsed": false,
    "ExecuteTime": {
     "start_time": "2024-10-06T18:50:43.327065Z",
     "end_time": "2024-10-06T18:50:45.695177Z"
    }
   }
  },
  {
   "cell_type": "code",
   "execution_count": 51,
   "outputs": [
    {
     "data": {
      "text/plain": "array([ True, False, False,  True, False, False, False])"
     },
     "execution_count": 51,
     "metadata": {},
     "output_type": "execute_result"
    }
   ],
   "source": [
    "# indices em que o valor eh Bob\n",
    "names == 'Bob'"
   ],
   "metadata": {
    "collapsed": false,
    "ExecuteTime": {
     "start_time": "2024-10-06T18:50:43.327631Z",
     "end_time": "2024-10-06T18:50:45.777282Z"
    }
   }
  },
  {
   "cell_type": "code",
   "execution_count": 52,
   "outputs": [
    {
     "data": {
      "text/plain": "array(['Bob', 'Bob'], dtype='<U4')"
     },
     "execution_count": 52,
     "metadata": {},
     "output_type": "execute_result"
    }
   ],
   "source": [
    "names[names=='Bob']\n"
   ],
   "metadata": {
    "collapsed": false,
    "ExecuteTime": {
     "start_time": "2024-10-06T18:50:43.328059Z",
     "end_time": "2024-10-06T18:50:45.823310Z"
    }
   }
  },
  {
   "cell_type": "code",
   "execution_count": 53,
   "outputs": [
    {
     "data": {
      "text/plain": "array([[-0.14372236,  0.58373353, -0.62859076, -1.68776363],\n       [-0.12355202,  0.27445299,  1.40076038, -0.89792643]])"
     },
     "execution_count": 53,
     "metadata": {},
     "output_type": "execute_result"
    }
   ],
   "source": [
    "data[names=='Bob']\n"
   ],
   "metadata": {
    "collapsed": false,
    "ExecuteTime": {
     "start_time": "2024-10-06T18:50:43.328452Z",
     "end_time": "2024-10-06T18:50:45.907530Z"
    }
   }
  },
  {
   "cell_type": "code",
   "execution_count": 54,
   "outputs": [
    {
     "data": {
      "text/plain": "array([-0.62859076,  1.40076038])"
     },
     "execution_count": 54,
     "metadata": {},
     "output_type": "execute_result"
    }
   ],
   "source": [
    "data[names=='Bob', 2]\n"
   ],
   "metadata": {
    "collapsed": false,
    "ExecuteTime": {
     "start_time": "2024-10-06T18:50:43.344227Z",
     "end_time": "2024-10-06T18:50:45.971958Z"
    }
   }
  },
  {
   "cell_type": "code",
   "execution_count": 55,
   "outputs": [
    {
     "data": {
      "text/plain": "array([[-0.62859076, -1.68776363],\n       [ 1.40076038, -0.89792643]])"
     },
     "execution_count": 55,
     "metadata": {},
     "output_type": "execute_result"
    }
   ],
   "source": [
    "data[names=='Bob', 2:]"
   ],
   "metadata": {
    "collapsed": false,
    "ExecuteTime": {
     "start_time": "2024-10-06T18:50:43.362126Z",
     "end_time": "2024-10-06T18:50:46.082076Z"
    }
   }
  },
  {
   "cell_type": "code",
   "execution_count": 56,
   "outputs": [
    {
     "data": {
      "text/plain": "array([[ 0.58591075,  0.16328812, -0.61610859,  2.11509781],\n       [ 0.01095234, -1.25347626,  1.30901393, -0.75914179],\n       [-0.67614373, -0.0996626 , -0.32898694,  1.65337729],\n       [-0.45141808,  1.16721188, -1.01229345, -0.61238942],\n       [ 0.60165016,  0.06619344, -0.30338719, -0.5073148 ]])"
     },
     "execution_count": 56,
     "metadata": {},
     "output_type": "execute_result"
    }
   ],
   "source": [
    "data[names!='Bob']\n"
   ],
   "metadata": {
    "collapsed": false,
    "ExecuteTime": {
     "start_time": "2024-10-06T18:50:43.378988Z",
     "end_time": "2024-10-06T18:50:46.663788Z"
    }
   }
  },
  {
   "cell_type": "code",
   "execution_count": 57,
   "outputs": [
    {
     "data": {
      "text/plain": "array([[-0.14372236,  0.58373353, -0.62859076, -1.68776363],\n       [ 0.01095234, -1.25347626,  1.30901393, -0.75914179],\n       [-0.12355202,  0.27445299,  1.40076038, -0.89792643],\n       [-0.67614373, -0.0996626 , -0.32898694,  1.65337729]])"
     },
     "execution_count": 57,
     "metadata": {},
     "output_type": "execute_result"
    }
   ],
   "source": [
    "data[(names=='Bob') | (names=='Will')]"
   ],
   "metadata": {
    "collapsed": false,
    "ExecuteTime": {
     "start_time": "2024-10-06T18:50:43.422852Z",
     "end_time": "2024-10-06T18:50:46.664350Z"
    }
   }
  },
  {
   "cell_type": "code",
   "execution_count": 58,
   "outputs": [
    {
     "data": {
      "text/plain": "array([-0.14372236, -0.62859076, -1.68776363, -0.61610859, -1.25347626,\n       -0.75914179, -0.12355202, -0.89792643, -0.67614373, -0.0996626 ,\n       -0.32898694, -0.45141808, -1.01229345, -0.61238942, -0.30338719,\n       -0.5073148 ])"
     },
     "execution_count": 58,
     "metadata": {},
     "output_type": "execute_result"
    }
   ],
   "source": [
    "# zerando todos valores negativos\n",
    "data[data<0]"
   ],
   "metadata": {
    "collapsed": false,
    "ExecuteTime": {
     "start_time": "2024-10-06T18:50:43.423151Z",
     "end_time": "2024-10-06T18:50:46.744571Z"
    }
   }
  },
  {
   "cell_type": "code",
   "execution_count": 59,
   "outputs": [],
   "source": [
    "data[data<0] = 0"
   ],
   "metadata": {
    "collapsed": false,
    "ExecuteTime": {
     "start_time": "2024-10-06T18:50:43.466901Z",
     "end_time": "2024-10-06T18:50:46.744985Z"
    }
   }
  },
  {
   "cell_type": "code",
   "execution_count": 60,
   "outputs": [
    {
     "data": {
      "text/plain": "array([[0.        , 0.58373353, 0.        , 0.        ],\n       [0.58591075, 0.16328812, 0.        , 2.11509781],\n       [0.01095234, 0.        , 1.30901393, 0.        ],\n       [0.        , 0.27445299, 1.40076038, 0.        ],\n       [0.        , 0.        , 0.        , 1.65337729],\n       [0.        , 1.16721188, 0.        , 0.        ],\n       [0.60165016, 0.06619344, 0.        , 0.        ]])"
     },
     "execution_count": 60,
     "metadata": {},
     "output_type": "execute_result"
    }
   ],
   "source": [
    "data"
   ],
   "metadata": {
    "collapsed": false,
    "ExecuteTime": {
     "start_time": "2024-10-06T18:50:43.467221Z",
     "end_time": "2024-10-06T18:50:46.745558Z"
    }
   }
  },
  {
   "cell_type": "code",
   "execution_count": 61,
   "outputs": [],
   "source": [
    "data[names=='Joe'] = 7\n"
   ],
   "metadata": {
    "collapsed": false,
    "ExecuteTime": {
     "start_time": "2024-10-06T18:50:43.471973Z",
     "end_time": "2024-10-06T18:50:46.745802Z"
    }
   }
  },
  {
   "cell_type": "code",
   "execution_count": 62,
   "outputs": [
    {
     "data": {
      "text/plain": "array([[0.        , 0.58373353, 0.        , 0.        ],\n       [7.        , 7.        , 7.        , 7.        ],\n       [0.01095234, 0.        , 1.30901393, 0.        ],\n       [0.        , 0.27445299, 1.40076038, 0.        ],\n       [0.        , 0.        , 0.        , 1.65337729],\n       [7.        , 7.        , 7.        , 7.        ],\n       [7.        , 7.        , 7.        , 7.        ]])"
     },
     "execution_count": 62,
     "metadata": {},
     "output_type": "execute_result"
    }
   ],
   "source": [
    "data\n"
   ],
   "metadata": {
    "collapsed": false,
    "ExecuteTime": {
     "start_time": "2024-10-06T18:50:43.518783Z",
     "end_time": "2024-10-06T18:50:46.746397Z"
    }
   }
  },
  {
   "cell_type": "code",
   "execution_count": 62,
   "outputs": [],
   "source": [],
   "metadata": {
    "collapsed": false,
    "ExecuteTime": {
     "start_time": "2024-10-06T18:50:43.519364Z",
     "end_time": "2024-10-06T18:50:46.746639Z"
    }
   }
  }
 ],
 "metadata": {
  "kernelspec": {
   "display_name": "Python 3",
   "language": "python",
   "name": "python3"
  },
  "language_info": {
   "codemirror_mode": {
    "name": "ipython",
    "version": 2
   },
   "file_extension": ".py",
   "mimetype": "text/x-python",
   "name": "python",
   "nbconvert_exporter": "python",
   "pygments_lexer": "ipython2",
   "version": "2.7.6"
  }
 },
 "nbformat": 4,
 "nbformat_minor": 0
}
